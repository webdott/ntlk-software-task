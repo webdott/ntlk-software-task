{
 "cells": [
  {
   "attachments": {},
   "cell_type": "markdown",
   "id": "f134a017",
   "metadata": {},
   "source": [
    "### Import Statements"
   ]
  },
  {
   "cell_type": "code",
   "execution_count": 19,
   "id": "dbb3e418",
   "metadata": {},
   "outputs": [],
   "source": [
    "import nltk"
   ]
  },
  {
   "cell_type": "code",
   "execution_count": 20,
   "id": "1d11c6cd",
   "metadata": {},
   "outputs": [],
   "source": [
    "# uncomment to install datasets\n",
    "# nltk.download('popular')\n",
    "# nltk.download('punkt')"
   ]
  },
  {
   "attachments": {},
   "cell_type": "markdown",
   "id": "6e902dc4",
   "metadata": {},
   "source": [
    "### Defining CFG (Context Free Grammar) for English Words"
   ]
  },
  {
   "cell_type": "code",
   "execution_count": 21,
   "id": "a5a447a1",
   "metadata": {},
   "outputs": [],
   "source": [
    "grammar_in_english = nltk.CFG.fromstring(\"\"\"\n",
    "    S -> NP VP\n",
    "    NP -> N | Det N\n",
    "    VP -> V | V NP\n",
    "    N -> \"mother\" | \"inlaw\" | \"husband\" | \"family\" | \"parent\" | \"father\" | \"son\" | \"daughter\" | \"wife\" | \"child\" | \"aunt\" | \"uncle\"\n",
    "    V -> \"plays\" | \"sings\" | \"owns\" | \"likes\" | \"hates\" | \"tickles\" | \"bakes\" | \"runs\"\n",
    "    Det -> \"a\" | \"an\" | \"the\" | \"my\"\n",
    "\"\"\")"
   ]
  },
  {
   "attachments": {},
   "cell_type": "markdown",
   "id": "b8c04c16",
   "metadata": {},
   "source": [
    "### Creating the Parser"
   ]
  },
  {
   "cell_type": "code",
   "execution_count": 22,
   "id": "8799b4db",
   "metadata": {},
   "outputs": [],
   "source": [
    "parser = nltk.RecursiveDescentParser(grammar_in_english)"
   ]
  },
  {
   "cell_type": "code",
   "execution_count": 23,
   "id": "d5a14edf",
   "metadata": {},
   "outputs": [],
   "source": [
    "sentence_to_tokenize = \"my aunt runs\"\n",
    "tokens = nltk.word_tokenize(sentence_to_tokenize)\n",
    "parse_tree = list(parser.parse(tokens))"
   ]
  },
  {
   "cell_type": "code",
   "execution_count": 25,
   "id": "585c702a",
   "metadata": {},
   "outputs": [
    {
     "ename": "ModuleNotFoundError",
     "evalue": "No module named 'svgling'",
     "output_type": "error",
     "traceback": [
      "\u001b[0;31m---------------------------------------------------------------------------\u001b[0m",
      "\u001b[0;31mModuleNotFoundError\u001b[0m                       Traceback (most recent call last)",
      "File \u001b[0;32m~/Library/Python/3.8/lib/python/site-packages/IPython/core/formatters.py:344\u001b[0m, in \u001b[0;36mBaseFormatter.__call__\u001b[0;34m(self, obj)\u001b[0m\n\u001b[1;32m    342\u001b[0m     method \u001b[39m=\u001b[39m get_real_method(obj, \u001b[39mself\u001b[39m\u001b[39m.\u001b[39mprint_method)\n\u001b[1;32m    343\u001b[0m     \u001b[39mif\u001b[39;00m method \u001b[39mis\u001b[39;00m \u001b[39mnot\u001b[39;00m \u001b[39mNone\u001b[39;00m:\n\u001b[0;32m--> 344\u001b[0m         \u001b[39mreturn\u001b[39;00m method()\n\u001b[1;32m    345\u001b[0m     \u001b[39mreturn\u001b[39;00m \u001b[39mNone\u001b[39;00m\n\u001b[1;32m    346\u001b[0m \u001b[39melse\u001b[39;00m:\n",
      "File \u001b[0;32m~/Library/Python/3.8/lib/python/site-packages/nltk/tree/tree.py:782\u001b[0m, in \u001b[0;36mTree._repr_svg_\u001b[0;34m(self)\u001b[0m\n\u001b[1;32m    781\u001b[0m \u001b[39mdef\u001b[39;00m \u001b[39m_repr_svg_\u001b[39m(\u001b[39mself\u001b[39m):\n\u001b[0;32m--> 782\u001b[0m     \u001b[39mfrom\u001b[39;00m \u001b[39msvgling\u001b[39;00m \u001b[39mimport\u001b[39;00m draw_tree\n\u001b[1;32m    784\u001b[0m     \u001b[39mreturn\u001b[39;00m draw_tree(\u001b[39mself\u001b[39m)\u001b[39m.\u001b[39m_repr_svg_()\n",
      "\u001b[0;31mModuleNotFoundError\u001b[0m: No module named 'svgling'"
     ]
    },
    {
     "data": {
      "text/plain": [
       "Tree('S', [Tree('NP', [Tree('Det', ['my']), Tree('N', ['aunt'])]), Tree('VP', [Tree('V', ['runs'])])])"
      ]
     },
     "execution_count": 25,
     "metadata": {},
     "output_type": "execute_result"
    }
   ],
   "source": [
    "parse_tree[0]"
   ]
  },
  {
   "attachments": {},
   "cell_type": "markdown",
   "id": "657aed8f",
   "metadata": {},
   "source": [
    "### Check English Sentence Correctness"
   ]
  },
  {
   "cell_type": "code",
   "execution_count": 26,
   "id": "4e4d8614",
   "metadata": {},
   "outputs": [
    {
     "data": {
      "text/plain": [
       "nltk.grammar.CFG"
      ]
     },
     "execution_count": 26,
     "metadata": {},
     "output_type": "execute_result"
    }
   ],
   "source": [
    "type(grammar_in_english) # get type of grammar"
   ]
  },
  {
   "cell_type": "code",
   "execution_count": 27,
   "id": "d7cb10c2",
   "metadata": {},
   "outputs": [],
   "source": [
    "def check_sentence(sentence_to_tokenize:str, grammar:nltk.grammar.CFG) -> nltk.tree.tree.Tree:\n",
    "    parser = nltk.RecursiveDescentParser(grammar)\n",
    "    tokens = nltk.word_tokenize(sentence_to_tokenize)\n",
    "    try:\n",
    "        parse_tree = list(parser.parse(tokens))\n",
    "        if len(parse_tree) > 0:\n",
    "            return parse_tree[0];\n",
    "        else:\n",
    "            return None;\n",
    "    except :\n",
    "        return None"
   ]
  },
  {
   "cell_type": "code",
   "execution_count": 28,
   "id": "e6e300c7",
   "metadata": {},
   "outputs": [],
   "source": [
    "def check_english_sentence(sentence:str) -> None:\n",
    "    # definition grammar\n",
    "    grammar_in_english = nltk.CFG.fromstring(\"\"\"\n",
    "        S -> NP VP\n",
    "        NP -> N | Det N\n",
    "        VP -> V | V NP\n",
    "        N -> \"mother\" | \"inlaw\" | \"husband\" | \"family\" | \"parent\" | \"father\" | \"son\" | \"daughter\" | \"wife\" | \"child\" | \"aunt\" | \"uncle\"\n",
    "        V -> \"plays\" | \"sings\" | \"owns\" | \"likes\" | \"hates\" | \"tickles\" | \"bakes\" | \"runs\" | \"running\"\n",
    "        Det -> \"a\" | \"an\" | \"the\" | \"my\" | \"his\"\n",
    "    \"\"\")\n",
    "    # get formatted string stripped off extra charcters\n",
    "    sentence = sentence.replace('.','').strip().lower()\n",
    "    #parse\n",
    "    parse_tree = check_sentence(sentence, grammar_in_english)\n",
    "    if parse_tree is not None:\n",
    "        print(\"This sentence is grammatically correct!\\n\")\n",
    "        print(\"The parse tree for the grammar is show below:\\n\")\n",
    "        parse_tree.pretty_print()\n",
    "    else:\n",
    "        print(\"This sentence is not grammatically correct. Try modifying it\")"
   ]
  },
  {
   "attachments": {},
   "cell_type": "markdown",
   "id": "bc302ab4",
   "metadata": {},
   "source": [
    "### List of sentences"
   ]
  },
  {
   "attachments": {},
   "cell_type": "markdown",
   "id": "f35aa4b9",
   "metadata": {},
   "source": [
    "- #### Correct Sentences"
   ]
  },
  {
   "cell_type": "code",
   "execution_count": null,
   "id": "a85f6ad4",
   "metadata": {},
   "outputs": [],
   "source": [
    "check_english_sentence('my aunt runs.') # 1 "
   ]
  },
  {
   "cell_type": "code",
   "execution_count": null,
   "id": "3f198d9c",
   "metadata": {},
   "outputs": [],
   "source": [
    "check_english_sentence('My mother likes my father.') # 2"
   ]
  },
  {
   "cell_type": "code",
   "execution_count": null,
   "id": "146b1d08",
   "metadata": {},
   "outputs": [],
   "source": [
    "check_english_sentence(\"An inlaw hates my child.\") # 3"
   ]
  },
  {
   "cell_type": "code",
   "execution_count": null,
   "id": "9148f49f",
   "metadata": {},
   "outputs": [],
   "source": [
    "check_english_sentence(\"A father tickles his son.\") # 4"
   ]
  },
  {
   "attachments": {},
   "cell_type": "markdown",
   "id": "8faad4aa",
   "metadata": {},
   "source": [
    "- #### Wrong Sentences"
   ]
  },
  {
   "cell_type": "code",
   "execution_count": null,
   "id": "6db24746",
   "metadata": {},
   "outputs": [],
   "source": [
    "check_english_sentence(\"My daughter bakes awesome cakes.\") # 5"
   ]
  },
  {
   "cell_type": "code",
   "execution_count": null,
   "id": "08ec5098",
   "metadata": {},
   "outputs": [],
   "source": [
    "check_english_sentence(\"That child has a parent\") # 6"
   ]
  },
  {
   "cell_type": "code",
   "execution_count": null,
   "id": "538f0c3e",
   "metadata": {},
   "outputs": [],
   "source": [
    "check_english_sentence(\"The wife cooks for her husband\") # 7"
   ]
  },
  {
   "cell_type": "code",
   "execution_count": null,
   "id": "e80bb1cd",
   "metadata": {},
   "outputs": [],
   "source": [
    "check_english_sentence(\"My uncle owns a bakery\") # 8"
   ]
  },
  {
   "cell_type": "code",
   "execution_count": 29,
   "id": "d3eb2406",
   "metadata": {},
   "outputs": [
    {
     "name": "stdout",
     "output_type": "stream",
     "text": [
      "This sentence is not grammatically correct. Try modifying it\n"
     ]
    }
   ],
   "source": [
    "check_english_sentence(\"My uncle is running\") # 8"
   ]
  },
  {
   "attachments": {},
   "cell_type": "markdown",
   "id": "50b0e5fd",
   "metadata": {},
   "source": [
    "### Check Yoruba Sentence Correctness"
   ]
  },
  {
   "cell_type": "code",
   "execution_count": 56,
   "id": "316c2702",
   "metadata": {},
   "outputs": [],
   "source": [
    "def check_yoruba_sentence(sentence:str) -> None:\n",
    "    # grammar definition     \n",
    "    grammar_in_yoruba = nltk.CFG.fromstring(\"\"\"\n",
    "        S -> NP VP\n",
    "        NP -> N | N Det\n",
    "        VP -> V | V NP\n",
    "        N -> \"èníyàn\" | \"ọkùnrin\" | \"ọkọ\" | \"ìyá\" | \"ìyàwo\" | \"bàbá\" | \"àná\" | \"ẹ̀bí\" | \"òbí\" | \"ọmọ\" | \"seyi\" | \"moshood\"\n",
    "        V ->  \"jẹun\" | \"kọrin\" | \"joko\" | \"dọbalẹ\" | \"'nsare\" | \"nìfé\" | \"pa\"\n",
    "        Det -> \"ẹ\" | \"mí\" | \"yii\" | \"yẹn\"\n",
    "    \"\"\")\n",
    "    # string clean up \n",
    "    sentence = sentence.replace('.','').strip().lower()\n",
    "    #parse\n",
    "    parse_tree = check_sentence(sentence, grammar_in_yoruba)\n",
    "    if parse_tree is not None:\n",
    "        print(\"This sentence is grammatically correct!\\n\")\n",
    "        print(\"The parse tree for the grammar is show below:\\n\")\n",
    "        parse_tree.pretty_print()\n",
    "    else:\n",
    "        print(\"This sentence is not grammatically correct. Try modifying it\")"
   ]
  },
  {
   "attachments": {},
   "cell_type": "markdown",
   "id": "75ee3894",
   "metadata": {},
   "source": [
    "- #### Correct Sentences"
   ]
  },
  {
   "cell_type": "code",
   "execution_count": 41,
   "id": "35b82087",
   "metadata": {},
   "outputs": [
    {
     "name": "stdout",
     "output_type": "stream",
     "text": [
      "This sentence is grammatically correct!\n",
      "\n",
      "The parse tree for the grammar is show below:\n",
      "\n",
      "         S        \n",
      "      ___|____     \n",
      "     NP       VP  \n",
      "  ___|___     |    \n",
      " N      Det   V   \n",
      " |       |    |    \n",
      "àná      mí 'nsare\n",
      "\n"
     ]
    }
   ],
   "source": [
    "check_yoruba_sentence(\"àná mí 'nsare\")"
   ]
  },
  {
   "cell_type": "code",
   "execution_count": 39,
   "id": "93711fa1",
   "metadata": {},
   "outputs": [
    {
     "name": "stdout",
     "output_type": "stream",
     "text": [
      "This sentence is grammatically correct!\n",
      "\n",
      "The parse tree for the grammar is show below:\n",
      "\n",
      "          S              \n",
      "  ________|___            \n",
      " |            VP         \n",
      " |    ________|____       \n",
      " NP  |             NP    \n",
      " |   |         ____|___   \n",
      " N   V        N       Det\n",
      " |   |        |        |  \n",
      "ìyá nìfé     bàbá      mí\n",
      "\n"
     ]
    }
   ],
   "source": [
    "check_yoruba_sentence(\"ìyá nìfé bàbá mí\")"
   ]
  },
  {
   "cell_type": "code",
   "execution_count": 50,
   "id": "6d0b8cc1",
   "metadata": {},
   "outputs": [
    {
     "name": "stdout",
     "output_type": "stream",
     "text": [
      "This sentence is grammatically correct!\n",
      "\n",
      "The parse tree for the grammar is show below:\n",
      "\n",
      "         S      \n",
      "      ___|___    \n",
      "     NP      VP \n",
      "  ___|___    |   \n",
      " N      Det  V  \n",
      " |       |   |   \n",
      "òbí     yẹn joko\n",
      "\n"
     ]
    }
   ],
   "source": [
    "check_yoruba_sentence(\"òbí yẹn joko\")"
   ]
  },
  {
   "cell_type": "code",
   "execution_count": 57,
   "id": "c992ce9b",
   "metadata": {},
   "outputs": [
    {
     "name": "stdout",
     "output_type": "stream",
     "text": [
      "This sentence is grammatically correct!\n",
      "\n",
      "The parse tree for the grammar is show below:\n",
      "\n",
      "             S               \n",
      "      _______|____            \n",
      "     |            VP         \n",
      "     |        ____|____       \n",
      "     NP      |         NP    \n",
      "  ___|___    |     ____|___   \n",
      " N      Det  V    N       Det\n",
      " |       |   |    |        |  \n",
      "ọkọ     yii  pa ìyàwo      ẹ \n",
      "\n"
     ]
    }
   ],
   "source": [
    "check_yoruba_sentence(\"ọkọ yii pa ìyàwo ẹ\")"
   ]
  },
  {
   "attachments": {},
   "cell_type": "markdown",
   "id": "9914d18e",
   "metadata": {},
   "source": [
    "- #### Wrong Sentences"
   ]
  },
  {
   "cell_type": "code",
   "execution_count": 58,
   "id": "ac8c3e61",
   "metadata": {},
   "outputs": [
    {
     "name": "stdout",
     "output_type": "stream",
     "text": [
      "This sentence is not grammatically correct. Try modifying it\n"
     ]
    }
   ],
   "source": [
    "check_yoruba_sentence(\"ọkùnrin ni moshood\")"
   ]
  },
  {
   "cell_type": "code",
   "execution_count": 59,
   "id": "f8b70094",
   "metadata": {},
   "outputs": [
    {
     "name": "stdout",
     "output_type": "stream",
     "text": [
      "This sentence is not grammatically correct. Try modifying it\n"
     ]
    }
   ],
   "source": [
    "check_yoruba_sentence(\"seyi dọbalẹ f'ẹ̀bí ẹ\")"
   ]
  },
  {
   "cell_type": "code",
   "execution_count": 60,
   "id": "7042927b",
   "metadata": {},
   "outputs": [
    {
     "name": "stdout",
     "output_type": "stream",
     "text": [
      "This sentence is not grammatically correct. Try modifying it\n"
     ]
    }
   ],
   "source": [
    "check_yoruba_sentence(\"on jẹun l'ori ẹni to'n kọrin\")"
   ]
  },
  {
   "cell_type": "code",
   "execution_count": 61,
   "id": "449f01b7",
   "metadata": {},
   "outputs": [
    {
     "name": "stdout",
     "output_type": "stream",
     "text": [
      "This sentence is not grammatically correct. Try modifying it\n"
     ]
    }
   ],
   "source": [
    "check_yoruba_sentence(\"àwá òbí fẹràn awọn èníyàn\")"
   ]
  },
  {
   "cell_type": "code",
   "execution_count": null,
   "id": "9c1b2b95",
   "metadata": {},
   "outputs": [],
   "source": []
  }
 ],
 "metadata": {
  "kernelspec": {
   "display_name": "Python 3",
   "language": "python",
   "name": "python3"
  },
  "language_info": {
   "codemirror_mode": {
    "name": "ipython",
    "version": 3
   },
   "file_extension": ".py",
   "mimetype": "text/x-python",
   "name": "python",
   "nbconvert_exporter": "python",
   "pygments_lexer": "ipython3",
   "version": "3.8.7"
  }
 },
 "nbformat": 4,
 "nbformat_minor": 5
}
